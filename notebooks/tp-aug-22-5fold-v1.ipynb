{
 "cells": [
  {
   "cell_type": "code",
   "execution_count": 1,
   "id": "026faefc",
   "metadata": {},
   "outputs": [],
   "source": [
    "import numpy as np\n",
    "import pandas as pd\n",
    "import matplotlib.pyplot as plt\n",
    "import seaborn as sns\n",
    "from sklearn import model_selection\n",
    "from sklearn.impute import SimpleImputer\n",
    "from sklearn.preprocessing import OneHotEncoder\n",
    "from sklearn.metrics import roc_auc_score, roc_curve\n",
    "from sklearn.compose import ColumnTransformer\n",
    "from sklearn.pipeline import Pipeline\n",
    "from sklearn import linear_model"
   ]
  },
  {
   "cell_type": "code",
   "execution_count": 2,
   "id": "584860c0",
   "metadata": {},
   "outputs": [
    {
     "data": {
      "text/html": [
       "<div>\n",
       "<style scoped>\n",
       "    .dataframe tbody tr th:only-of-type {\n",
       "        vertical-align: middle;\n",
       "    }\n",
       "\n",
       "    .dataframe tbody tr th {\n",
       "        vertical-align: top;\n",
       "    }\n",
       "\n",
       "    .dataframe thead th {\n",
       "        text-align: right;\n",
       "    }\n",
       "</style>\n",
       "<table border=\"1\" class=\"dataframe\">\n",
       "  <thead>\n",
       "    <tr style=\"text-align: right;\">\n",
       "      <th></th>\n",
       "      <th>id</th>\n",
       "      <th>product_code</th>\n",
       "      <th>loading</th>\n",
       "      <th>attribute_0</th>\n",
       "      <th>attribute_1</th>\n",
       "      <th>attribute_2</th>\n",
       "      <th>attribute_3</th>\n",
       "      <th>measurement_0</th>\n",
       "      <th>measurement_1</th>\n",
       "      <th>measurement_2</th>\n",
       "      <th>...</th>\n",
       "      <th>measurement_10</th>\n",
       "      <th>measurement_11</th>\n",
       "      <th>measurement_12</th>\n",
       "      <th>measurement_13</th>\n",
       "      <th>measurement_14</th>\n",
       "      <th>measurement_15</th>\n",
       "      <th>measurement_16</th>\n",
       "      <th>measurement_17</th>\n",
       "      <th>failure</th>\n",
       "      <th>kfold</th>\n",
       "    </tr>\n",
       "  </thead>\n",
       "  <tbody>\n",
       "    <tr>\n",
       "      <th>0</th>\n",
       "      <td>0</td>\n",
       "      <td>A</td>\n",
       "      <td>80.10</td>\n",
       "      <td>material_7</td>\n",
       "      <td>material_8</td>\n",
       "      <td>9</td>\n",
       "      <td>5</td>\n",
       "      <td>7</td>\n",
       "      <td>8</td>\n",
       "      <td>4</td>\n",
       "      <td>...</td>\n",
       "      <td>15.859</td>\n",
       "      <td>17.594</td>\n",
       "      <td>15.193</td>\n",
       "      <td>15.029</td>\n",
       "      <td>NaN</td>\n",
       "      <td>13.034</td>\n",
       "      <td>14.684</td>\n",
       "      <td>764.100</td>\n",
       "      <td>0</td>\n",
       "      <td>0</td>\n",
       "    </tr>\n",
       "    <tr>\n",
       "      <th>1</th>\n",
       "      <td>1</td>\n",
       "      <td>A</td>\n",
       "      <td>84.89</td>\n",
       "      <td>material_7</td>\n",
       "      <td>material_8</td>\n",
       "      <td>9</td>\n",
       "      <td>5</td>\n",
       "      <td>14</td>\n",
       "      <td>3</td>\n",
       "      <td>3</td>\n",
       "      <td>...</td>\n",
       "      <td>17.947</td>\n",
       "      <td>17.915</td>\n",
       "      <td>11.755</td>\n",
       "      <td>14.732</td>\n",
       "      <td>15.425</td>\n",
       "      <td>14.395</td>\n",
       "      <td>15.631</td>\n",
       "      <td>682.057</td>\n",
       "      <td>0</td>\n",
       "      <td>4</td>\n",
       "    </tr>\n",
       "    <tr>\n",
       "      <th>2</th>\n",
       "      <td>2</td>\n",
       "      <td>A</td>\n",
       "      <td>82.43</td>\n",
       "      <td>material_7</td>\n",
       "      <td>material_8</td>\n",
       "      <td>9</td>\n",
       "      <td>5</td>\n",
       "      <td>12</td>\n",
       "      <td>1</td>\n",
       "      <td>5</td>\n",
       "      <td>...</td>\n",
       "      <td>15.607</td>\n",
       "      <td>NaN</td>\n",
       "      <td>13.798</td>\n",
       "      <td>16.711</td>\n",
       "      <td>18.631</td>\n",
       "      <td>14.094</td>\n",
       "      <td>17.946</td>\n",
       "      <td>663.376</td>\n",
       "      <td>0</td>\n",
       "      <td>0</td>\n",
       "    </tr>\n",
       "  </tbody>\n",
       "</table>\n",
       "<p>3 rows × 27 columns</p>\n",
       "</div>"
      ],
      "text/plain": [
       "   id product_code  loading attribute_0 attribute_1  attribute_2  attribute_3  \\\n",
       "0   0            A    80.10  material_7  material_8            9            5   \n",
       "1   1            A    84.89  material_7  material_8            9            5   \n",
       "2   2            A    82.43  material_7  material_8            9            5   \n",
       "\n",
       "   measurement_0  measurement_1  measurement_2  ...  measurement_10  \\\n",
       "0              7              8              4  ...          15.859   \n",
       "1             14              3              3  ...          17.947   \n",
       "2             12              1              5  ...          15.607   \n",
       "\n",
       "   measurement_11  measurement_12  measurement_13  measurement_14  \\\n",
       "0          17.594          15.193          15.029             NaN   \n",
       "1          17.915          11.755          14.732          15.425   \n",
       "2             NaN          13.798          16.711          18.631   \n",
       "\n",
       "   measurement_15  measurement_16  measurement_17  failure  kfold  \n",
       "0          13.034          14.684         764.100        0      0  \n",
       "1          14.395          15.631         682.057        0      4  \n",
       "2          14.094          17.946         663.376        0      0  \n",
       "\n",
       "[3 rows x 27 columns]"
      ]
     },
     "execution_count": 2,
     "metadata": {},
     "output_type": "execute_result"
    }
   ],
   "source": [
    "# Reading csv file\n",
    "df_train =  pd.read_csv(\"train_fold.csv\")\n",
    "df_test = pd.read_csv(r'E:\\CS\\Practice\\kaggle\\comp\\tps-aug-22\\data\\test.csv')\n",
    "sample_submission = pd.read_csv(r'E:\\CS\\Practice\\kaggle\\comp\\tps-aug-22\\data\\sample_submission.csv')\n",
    "df_train.head(3)"
   ]
  },
  {
   "cell_type": "code",
   "execution_count": 3,
   "id": "7f6e3bb9",
   "metadata": {},
   "outputs": [],
   "source": [
    "corr_matrix = df_train.corr()"
   ]
  },
  {
   "cell_type": "code",
   "execution_count": 4,
   "id": "d038b261",
   "metadata": {},
   "outputs": [
    {
     "data": {
      "text/plain": [
       "failure           1.000000\n",
       "loading           0.129089\n",
       "measurement_17    0.033905\n",
       "measurement_5     0.018079\n",
       "measurement_8     0.017119\n",
       "measurement_7     0.016787\n",
       "measurement_2     0.015808\n",
       "measurement_6     0.014791\n",
       "measurement_0     0.009646\n",
       "attribute_2       0.006337\n",
       "measurement_14    0.006211\n",
       "measurement_12    0.004398\n",
       "measurement_3     0.003577\n",
       "measurement_16    0.002237\n",
       "kfold             0.000130\n",
       "measurement_10   -0.001515\n",
       "measurement_13   -0.001831\n",
       "measurement_15   -0.003544\n",
       "measurement_9    -0.003587\n",
       "measurement_11   -0.004801\n",
       "id               -0.007545\n",
       "measurement_4    -0.010488\n",
       "measurement_1    -0.010810\n",
       "attribute_3      -0.019222\n",
       "Name: failure, dtype: float64"
      ]
     },
     "execution_count": 4,
     "metadata": {},
     "output_type": "execute_result"
    }
   ],
   "source": [
    "corr_matrix[\"failure\"].sort_values(ascending=False)"
   ]
  },
  {
   "cell_type": "code",
   "execution_count": 5,
   "id": "05ec44a2",
   "metadata": {},
   "outputs": [],
   "source": [
    "# useful_features = corr_matrix.index[corr_matrix[\"failure\"] > 0]\n",
    "# df_train[useful_features]"
   ]
  },
  {
   "cell_type": "code",
   "execution_count": 6,
   "id": "8d09b297",
   "metadata": {},
   "outputs": [],
   "source": [
    "# useful_features = []\n",
    "# for f in corr_matrix[\"failure\"]:\n",
    "#     if f > 0:\n",
    "#         useful_features.append(corr_matrix.index)\n",
    "# print(useful_features)"
   ]
  },
  {
   "cell_type": "code",
   "execution_count": 7,
   "id": "da90b807",
   "metadata": {},
   "outputs": [],
   "source": [
    "# # Seperate target from predictors\n",
    "# y = df_train.failure\n",
    "# df_train.drop(['failure'], axis=1, inplace=True)\n",
    "# df_train"
   ]
  },
  {
   "cell_type": "code",
   "execution_count": 8,
   "id": "e6fc2274",
   "metadata": {},
   "outputs": [],
   "source": [
    "# all columns are features except id, failureand kfold columns\n",
    "features = [\n",
    "    f for f in df_train.columns if f not in ('id','kfold','failure')\n",
    "]"
   ]
  },
  {
   "cell_type": "code",
   "execution_count": 9,
   "id": "b6368d92",
   "metadata": {},
   "outputs": [
    {
     "name": "stdout",
     "output_type": "stream",
     "text": [
      "Categoricaal columns are:\n",
      " ['product_code', 'attribute_0', 'attribute_1']\n"
     ]
    }
   ],
   "source": [
    "# Categorical columns in the training data\n",
    "object_cols = [col for col in df_train.columns if df_train[col].dtype=='object']\n",
    "print('Categoricaal columns are:\\n',object_cols)"
   ]
  },
  {
   "cell_type": "code",
   "execution_count": 10,
   "id": "fa288ff8",
   "metadata": {},
   "outputs": [],
   "source": [
    "df_test = df_test[features]"
   ]
  },
  {
   "cell_type": "code",
   "execution_count": 11,
   "id": "a170d06d",
   "metadata": {},
   "outputs": [
    {
     "name": "stdout",
     "output_type": "stream",
     "text": [
      "0 0.501209135075817\n",
      "1 0.5008494221560432\n",
      "2 0.5010884278921809\n",
      "3 0.5003229750080374\n",
      "4 0.5004909135518367\n"
     ]
    }
   ],
   "source": [
    "for fold in range(5):\n",
    "    X_train = df_train[df_train.kfold != fold].reset_index(drop=True)\n",
    "    X_valid = df_train[df_train.kfold == fold].reset_index(drop=True)\n",
    "    X_test = df_test.copy()\n",
    "    \n",
    "    y_train = X_train.failure\n",
    "    y_valid = X_valid.failure\n",
    "    \n",
    "    X_train.drop(['failure'], axis = 1, inplace=True)\n",
    "    X_valid.drop(['failure'], axis = 1, inplace=True)\n",
    "    \n",
    "    # Select numerical columns\n",
    "    numerical_cols = [cname for cname in X_train.columns if X_train[cname].dtype in ['int64', 'float64']]\n",
    "    \n",
    "    # Select categorical columns\n",
    "    categorical_cols = [cname for cname in X_train.columns if X_train[cname].dtype == \"object\"]\n",
    "    \n",
    "    # Preprocessing for numerical data\n",
    "    numerical_transformer = SimpleImputer(strategy='mean')\n",
    "    \n",
    "    # Preprocessing for categorical data\n",
    "    categorical_transformer = Pipeline(steps=[\n",
    "        ('imputer', SimpleImputer(strategy ='most_frequent')),\n",
    "        ('onehot',OneHotEncoder(handle_unknown='ignore'))\n",
    "    ])\n",
    "    \n",
    "    # Bundle preprocessing for numerical and categorical daya\n",
    "    preprocessor = ColumnTransformer(transformers=[\n",
    "        ('num', numerical_transformer, numerical_cols),\n",
    "        ('cat', categorical_transformer, categorical_cols)\n",
    "    ])\n",
    "    \n",
    "    # Define model\n",
    "    model = linear_model.LogisticRegression()\n",
    "    \n",
    "    # Bundle preprocessing and modeling code in a pipeline\n",
    "    clf = Pipeline(steps=[('preprocessor', preprocessor),\n",
    "                      ('model', model)\n",
    "                     ])\n",
    "    \n",
    "    # Preprocessing of training data, fit model \n",
    "    clf.fit(X_train, y_train)\n",
    "    \n",
    "    # Preprocessing of validation data, get predictions\n",
    "    preds = clf.predict(X_valid)\n",
    "    \n",
    "    # roc_auc_metric\n",
    "    score = roc_auc_score(y_valid,preds)\n",
    "    \n",
    "    # print score\n",
    "    print(fold, score)"
   ]
  },
  {
   "cell_type": "code",
   "execution_count": 12,
   "id": "c2f959d7",
   "metadata": {},
   "outputs": [],
   "source": [
    "from sklearn.tree import DecisionTreeClassifier"
   ]
  },
  {
   "cell_type": "code",
   "execution_count": 13,
   "id": "d9a4f777",
   "metadata": {},
   "outputs": [
    {
     "name": "stdout",
     "output_type": "stream",
     "text": [
      "0 0.4924872985789012\n",
      "1 0.5015165231222186\n",
      "2 0.5163541261273457\n",
      "3 0.5111831418467317\n",
      "4 0.502120382747593\n"
     ]
    }
   ],
   "source": [
    "for fold in range(5):\n",
    "    X_train = df_train[df_train.kfold != fold].reset_index(drop=True)\n",
    "    X_valid = df_train[df_train.kfold == fold].reset_index(drop=True)\n",
    "    X_test = df_test.copy()\n",
    "    \n",
    "    y_train = X_train.failure\n",
    "    y_valid = X_valid.failure\n",
    "    \n",
    "    X_train.drop(['failure'], axis = 1, inplace=True)\n",
    "    X_valid.drop(['failure'], axis = 1, inplace=True)\n",
    "    \n",
    "    # Select numerical columns\n",
    "    numerical_cols = [cname for cname in X_train.columns if X_train[cname].dtype in ['int64', 'float64']]\n",
    "    \n",
    "    # Select categorical columns\n",
    "    categorical_cols = [cname for cname in X_train.columns if X_train[cname].dtype == \"object\"]\n",
    "    \n",
    "    # Preprocessing for numerical data\n",
    "    numerical_transformer = SimpleImputer(strategy='mean')\n",
    "    \n",
    "    # Preprocessing for categorical data\n",
    "    categorical_transformer = Pipeline(steps=[\n",
    "        ('imputer', SimpleImputer(strategy ='most_frequent')),\n",
    "        ('onehot',OneHotEncoder(handle_unknown='ignore'))\n",
    "    ])\n",
    "    \n",
    "    # Bundle preprocessing for numerical and categorical daya\n",
    "    preprocessor = ColumnTransformer(transformers=[\n",
    "        ('num', numerical_transformer, numerical_cols),\n",
    "        ('cat', categorical_transformer, categorical_cols)\n",
    "    ])\n",
    "    \n",
    "    # Define model\n",
    "    model = DecisionTreeClassifier(random_state=0)\n",
    "    \n",
    "    # Bundle preprocessing and modeling code in a pipeline\n",
    "    clf = Pipeline(steps=[('preprocessor', preprocessor),\n",
    "                      ('model', model)\n",
    "                     ])\n",
    "    \n",
    "    # Preprocessing of training data, fit model \n",
    "    clf.fit(X_train, y_train)\n",
    "    \n",
    "    # Preprocessing of validation data, get predictions\n",
    "    preds = clf.predict(X_valid)\n",
    "    \n",
    "    # roc_auc_metric\n",
    "    score = roc_auc_score(y_valid,preds)\n",
    "    \n",
    "    # print score\n",
    "    print(fold, score)"
   ]
  },
  {
   "cell_type": "code",
   "execution_count": 14,
   "id": "924baf23",
   "metadata": {},
   "outputs": [],
   "source": [
    "from sklearn.ensemble import RandomForestClassifier"
   ]
  },
  {
   "cell_type": "code",
   "execution_count": 15,
   "id": "2374ae9b",
   "metadata": {},
   "outputs": [
    {
     "name": "stdout",
     "output_type": "stream",
     "text": [
      "0 0.5000844468572118\n",
      "1 0.5002034721399685\n",
      "2 0.49940248565965584\n",
      "3 0.5003229750080374\n",
      "4 0.49976099426386233\n"
     ]
    }
   ],
   "source": [
    "for fold in range(5):\n",
    "    X_train = df_train[df_train.kfold != fold].reset_index(drop=True)\n",
    "    X_valid = df_train[df_train.kfold == fold].reset_index(drop=True)\n",
    "    X_test = df_test.copy()\n",
    "    \n",
    "    y_train = X_train.failure\n",
    "    y_valid = X_valid.failure\n",
    "    \n",
    "    X_train.drop(['failure'], axis = 1, inplace=True)\n",
    "    X_valid.drop(['failure'], axis = 1, inplace=True)\n",
    "    \n",
    "    # Select numerical columns\n",
    "    numerical_cols = [cname for cname in X_train.columns if X_train[cname].dtype in ['int64', 'float64']]\n",
    "    \n",
    "    # Select categorical columns\n",
    "    categorical_cols = [cname for cname in X_train.columns if X_train[cname].dtype == \"object\"]\n",
    "    \n",
    "    # Preprocessing for numerical data\n",
    "    numerical_transformer = SimpleImputer(strategy='mean')\n",
    "    \n",
    "    # Preprocessing for categorical data\n",
    "    categorical_transformer = Pipeline(steps=[\n",
    "        ('imputer', SimpleImputer(strategy ='most_frequent')),\n",
    "        ('onehot',OneHotEncoder(handle_unknown='ignore'))\n",
    "    ])\n",
    "    \n",
    "    # Bundle preprocessing for numerical and categorical daya\n",
    "    preprocessor = ColumnTransformer(transformers=[\n",
    "        ('num', numerical_transformer, numerical_cols),\n",
    "        ('cat', categorical_transformer, categorical_cols)\n",
    "    ])\n",
    "    \n",
    "    # Define model\n",
    "    model = RandomForestClassifier(n_estimators=100, random_state=0)\n",
    "    \n",
    "    # Bundle preprocessing and modeling code in a pipeline\n",
    "    clf = Pipeline(steps=[('preprocessor', preprocessor),\n",
    "                      ('model', model)\n",
    "                     ])\n",
    "    \n",
    "    # Preprocessing of training data, fit model \n",
    "    clf.fit(X_train, y_train)\n",
    "    \n",
    "    # Preprocessing of validation data, get predictions\n",
    "    preds = clf.predict(X_valid)\n",
    "    \n",
    "    # roc_auc_metric\n",
    "    score = roc_auc_score(y_valid,preds)\n",
    "    \n",
    "    # print score\n",
    "    print(fold, score)"
   ]
  },
  {
   "cell_type": "code",
   "execution_count": 102,
   "id": "9ad85abd",
   "metadata": {},
   "outputs": [
    {
     "name": "stdout",
     "output_type": "stream",
     "text": [
      "0 0.5059898007667943\n",
      "1 0.5049755495016837\n",
      "2 0.5038710468874262\n",
      "3 0.5216412291240122\n",
      "4 0.5162959610145688\n"
     ]
    }
   ],
   "source": [
    "final_predictions = []\n",
    "for fold in range(5):\n",
    "    X_train = df_train[df_train.kfold != fold].reset_index(drop=True)\n",
    "    X_valid = df_train[df_train.kfold == fold].reset_index(drop=True)\n",
    "    X_test = df_test.copy()\n",
    "    \n",
    "    y_train = X_train.failure\n",
    "    y_valid = X_valid.failure\n",
    "    \n",
    "#     X_train.drop(['failure'], axis = 1, inplace=True)\n",
    "#     X_valid.drop(['failure'], axis = 1, inplace=True)\n",
    "    \n",
    "    X_train.drop(['failure','id','kfold'], axis = 1, inplace=True)\n",
    "    X_valid.drop(['failure','id','kfold'], axis = 1, inplace=True)\n",
    "    \n",
    "    # Select numerical columns\n",
    "    numerical_cols = [cname for cname in X_train.columns if X_train[cname].dtype in ['int64', 'float64']]\n",
    "    \n",
    "    # Select categorical columns\n",
    "    categorical_cols = [cname for cname in X_train.columns if X_train[cname].dtype == \"object\"]\n",
    "    \n",
    "    # Preprocessing for numerical data\n",
    "    numerical_transformer = SimpleImputer(strategy='most_frequent')\n",
    "    \n",
    "    # Preprocessing for categorical data\n",
    "    categorical_transformer = Pipeline(steps=[\n",
    "        ('imputer', SimpleImputer(strategy ='most_frequent')),\n",
    "        ('onehot',OneHotEncoder(handle_unknown='ignore'))\n",
    "    ])\n",
    "    \n",
    "    # Bundle preprocessing for numerical and categorical daya\n",
    "    preprocessor = ColumnTransformer(transformers=[\n",
    "        ('num', numerical_transformer, numerical_cols),\n",
    "        ('cat', categorical_transformer, categorical_cols)\n",
    "    ])\n",
    "    \n",
    "    # Define model\n",
    "    model = DecisionTreeClassifier(random_state=fold)\n",
    "    \n",
    "    # Bundle preprocessing and modeling code in a pipeline\n",
    "    clf = Pipeline(steps=[('preprocessor', preprocessor),\n",
    "                      ('model', model)\n",
    "                     ])\n",
    "    \n",
    "    # Preprocessing of training data, fit model \n",
    "    clf.fit(X_train, y_train)\n",
    "    \n",
    "    # Preprocessing of validation data, get predictions\n",
    "    preds = clf.predict(X_valid)\n",
    "    test_preds = clf.predict_proba(X_test)[:,1]\n",
    "    \n",
    "    # roc_auc_metric\n",
    "    score = roc_auc_score(y_valid,preds)\n",
    "    \n",
    "    # Appending test\n",
    "    final_predictions.append(test_preds)\n",
    "    \n",
    "    # print score\n",
    "    print(fold, score)"
   ]
  },
  {
   "cell_type": "code",
   "execution_count": 103,
   "id": "cbe4987a",
   "metadata": {},
   "outputs": [
    {
     "data": {
      "text/plain": [
       "(20775, 25)"
      ]
     },
     "execution_count": 103,
     "metadata": {},
     "output_type": "execute_result"
    }
   ],
   "source": [
    "df_test.shape"
   ]
  },
  {
   "cell_type": "code",
   "execution_count": 104,
   "id": "012d7e19",
   "metadata": {},
   "outputs": [
    {
     "data": {
      "text/plain": [
       "[array([0., 1., 0., ..., 0., 0., 0.]),\n",
       " array([0., 0., 0., ..., 0., 0., 0.]),\n",
       " array([0., 1., 0., ..., 0., 0., 0.]),\n",
       " array([0., 0., 1., ..., 0., 0., 0.]),\n",
       " array([0., 0., 0., ..., 0., 0., 0.])]"
      ]
     },
     "execution_count": 104,
     "metadata": {},
     "output_type": "execute_result"
    }
   ],
   "source": [
    "final_predictions"
   ]
  },
  {
   "cell_type": "code",
   "execution_count": 95,
   "id": "47510f5c",
   "metadata": {},
   "outputs": [],
   "source": [
    "# prediction = np.column_stack(final_predictions)"
   ]
  },
  {
   "cell_type": "code",
   "execution_count": 106,
   "id": "3133b779",
   "metadata": {},
   "outputs": [
    {
     "data": {
      "text/plain": [
       "(20775, 5)"
      ]
     },
     "execution_count": 106,
     "metadata": {},
     "output_type": "execute_result"
    }
   ],
   "source": [
    "prediction = np.column_stack(final_predictions)\n",
    "prediction.shape"
   ]
  },
  {
   "cell_type": "code",
   "execution_count": 92,
   "id": "35f32836",
   "metadata": {},
   "outputs": [
    {
     "data": {
      "text/plain": [
       "(20775, 5)"
      ]
     },
     "execution_count": 92,
     "metadata": {},
     "output_type": "execute_result"
    }
   ],
   "source": [
    "pred = np.column_stack(final_predictions)\n",
    "pred.shape"
   ]
  },
  {
   "cell_type": "code",
   "execution_count": 86,
   "id": "75ce75c8",
   "metadata": {},
   "outputs": [],
   "source": [
    "# pred_list = []\n",
    "# for l in final_predictions:\n",
    "#     pred_list += 1\n",
    "\n",
    "# print(pred_list)"
   ]
  },
  {
   "cell_type": "code",
   "execution_count": 87,
   "id": "039a79bc",
   "metadata": {},
   "outputs": [
    {
     "ename": "ValueError",
     "evalue": "Length of values (5) does not match length of index (20775)",
     "output_type": "error",
     "traceback": [
      "\u001b[1;31m---------------------------------------------------------------------------\u001b[0m",
      "\u001b[1;31mValueError\u001b[0m                                Traceback (most recent call last)",
      "Input \u001b[1;32mIn [87]\u001b[0m, in \u001b[0;36m<cell line: 1>\u001b[1;34m()\u001b[0m\n\u001b[1;32m----> 1\u001b[0m sample_submission\u001b[38;5;241m.\u001b[39mfailure \u001b[38;5;241m=\u001b[39m pred\n\u001b[0;32m      2\u001b[0m sample_submission\n",
      "File \u001b[1;32mC:\\ProgramData\\Anaconda3\\lib\\site-packages\\pandas\\core\\generic.py:5604\u001b[0m, in \u001b[0;36mNDFrame.__setattr__\u001b[1;34m(self, name, value)\u001b[0m\n\u001b[0;32m   5602\u001b[0m     \u001b[38;5;28mobject\u001b[39m\u001b[38;5;241m.\u001b[39m\u001b[38;5;21m__setattr__\u001b[39m(\u001b[38;5;28mself\u001b[39m, name, value)\n\u001b[0;32m   5603\u001b[0m \u001b[38;5;28;01melif\u001b[39;00m name \u001b[38;5;129;01min\u001b[39;00m \u001b[38;5;28mself\u001b[39m\u001b[38;5;241m.\u001b[39m_info_axis:\n\u001b[1;32m-> 5604\u001b[0m     \u001b[38;5;28mself\u001b[39m[name] \u001b[38;5;241m=\u001b[39m value\n\u001b[0;32m   5605\u001b[0m \u001b[38;5;28;01melse\u001b[39;00m:\n\u001b[0;32m   5606\u001b[0m     \u001b[38;5;28mobject\u001b[39m\u001b[38;5;241m.\u001b[39m\u001b[38;5;21m__setattr__\u001b[39m(\u001b[38;5;28mself\u001b[39m, name, value)\n",
      "File \u001b[1;32mC:\\ProgramData\\Anaconda3\\lib\\site-packages\\pandas\\core\\frame.py:3655\u001b[0m, in \u001b[0;36mDataFrame.__setitem__\u001b[1;34m(self, key, value)\u001b[0m\n\u001b[0;32m   3652\u001b[0m     \u001b[38;5;28mself\u001b[39m\u001b[38;5;241m.\u001b[39m_setitem_array([key], value)\n\u001b[0;32m   3653\u001b[0m \u001b[38;5;28;01melse\u001b[39;00m:\n\u001b[0;32m   3654\u001b[0m     \u001b[38;5;66;03m# set column\u001b[39;00m\n\u001b[1;32m-> 3655\u001b[0m     \u001b[38;5;28;43mself\u001b[39;49m\u001b[38;5;241;43m.\u001b[39;49m\u001b[43m_set_item\u001b[49m\u001b[43m(\u001b[49m\u001b[43mkey\u001b[49m\u001b[43m,\u001b[49m\u001b[43m \u001b[49m\u001b[43mvalue\u001b[49m\u001b[43m)\u001b[49m\n",
      "File \u001b[1;32mC:\\ProgramData\\Anaconda3\\lib\\site-packages\\pandas\\core\\frame.py:3832\u001b[0m, in \u001b[0;36mDataFrame._set_item\u001b[1;34m(self, key, value)\u001b[0m\n\u001b[0;32m   3822\u001b[0m \u001b[38;5;28;01mdef\u001b[39;00m \u001b[38;5;21m_set_item\u001b[39m(\u001b[38;5;28mself\u001b[39m, key, value) \u001b[38;5;241m-\u001b[39m\u001b[38;5;241m>\u001b[39m \u001b[38;5;28;01mNone\u001b[39;00m:\n\u001b[0;32m   3823\u001b[0m     \u001b[38;5;124;03m\"\"\"\u001b[39;00m\n\u001b[0;32m   3824\u001b[0m \u001b[38;5;124;03m    Add series to DataFrame in specified column.\u001b[39;00m\n\u001b[0;32m   3825\u001b[0m \n\u001b[1;32m   (...)\u001b[0m\n\u001b[0;32m   3830\u001b[0m \u001b[38;5;124;03m    ensure homogeneity.\u001b[39;00m\n\u001b[0;32m   3831\u001b[0m \u001b[38;5;124;03m    \"\"\"\u001b[39;00m\n\u001b[1;32m-> 3832\u001b[0m     value \u001b[38;5;241m=\u001b[39m \u001b[38;5;28;43mself\u001b[39;49m\u001b[38;5;241;43m.\u001b[39;49m\u001b[43m_sanitize_column\u001b[49m\u001b[43m(\u001b[49m\u001b[43mvalue\u001b[49m\u001b[43m)\u001b[49m\n\u001b[0;32m   3834\u001b[0m     \u001b[38;5;28;01mif\u001b[39;00m (\n\u001b[0;32m   3835\u001b[0m         key \u001b[38;5;129;01min\u001b[39;00m \u001b[38;5;28mself\u001b[39m\u001b[38;5;241m.\u001b[39mcolumns\n\u001b[0;32m   3836\u001b[0m         \u001b[38;5;129;01mand\u001b[39;00m value\u001b[38;5;241m.\u001b[39mndim \u001b[38;5;241m==\u001b[39m \u001b[38;5;241m1\u001b[39m\n\u001b[0;32m   3837\u001b[0m         \u001b[38;5;129;01mand\u001b[39;00m \u001b[38;5;129;01mnot\u001b[39;00m is_extension_array_dtype(value)\n\u001b[0;32m   3838\u001b[0m     ):\n\u001b[0;32m   3839\u001b[0m         \u001b[38;5;66;03m# broadcast across multiple columns if necessary\u001b[39;00m\n\u001b[0;32m   3840\u001b[0m         \u001b[38;5;28;01mif\u001b[39;00m \u001b[38;5;129;01mnot\u001b[39;00m \u001b[38;5;28mself\u001b[39m\u001b[38;5;241m.\u001b[39mcolumns\u001b[38;5;241m.\u001b[39mis_unique \u001b[38;5;129;01mor\u001b[39;00m \u001b[38;5;28misinstance\u001b[39m(\u001b[38;5;28mself\u001b[39m\u001b[38;5;241m.\u001b[39mcolumns, MultiIndex):\n",
      "File \u001b[1;32mC:\\ProgramData\\Anaconda3\\lib\\site-packages\\pandas\\core\\frame.py:4535\u001b[0m, in \u001b[0;36mDataFrame._sanitize_column\u001b[1;34m(self, value)\u001b[0m\n\u001b[0;32m   4532\u001b[0m     \u001b[38;5;28;01mreturn\u001b[39;00m _reindex_for_setitem(value, \u001b[38;5;28mself\u001b[39m\u001b[38;5;241m.\u001b[39mindex)\n\u001b[0;32m   4534\u001b[0m \u001b[38;5;28;01mif\u001b[39;00m is_list_like(value):\n\u001b[1;32m-> 4535\u001b[0m     \u001b[43mcom\u001b[49m\u001b[38;5;241;43m.\u001b[39;49m\u001b[43mrequire_length_match\u001b[49m\u001b[43m(\u001b[49m\u001b[43mvalue\u001b[49m\u001b[43m,\u001b[49m\u001b[43m \u001b[49m\u001b[38;5;28;43mself\u001b[39;49m\u001b[38;5;241;43m.\u001b[39;49m\u001b[43mindex\u001b[49m\u001b[43m)\u001b[49m\n\u001b[0;32m   4536\u001b[0m \u001b[38;5;28;01mreturn\u001b[39;00m sanitize_array(value, \u001b[38;5;28mself\u001b[39m\u001b[38;5;241m.\u001b[39mindex, copy\u001b[38;5;241m=\u001b[39m\u001b[38;5;28;01mTrue\u001b[39;00m, allow_2d\u001b[38;5;241m=\u001b[39m\u001b[38;5;28;01mTrue\u001b[39;00m)\n",
      "File \u001b[1;32mC:\\ProgramData\\Anaconda3\\lib\\site-packages\\pandas\\core\\common.py:557\u001b[0m, in \u001b[0;36mrequire_length_match\u001b[1;34m(data, index)\u001b[0m\n\u001b[0;32m    553\u001b[0m \u001b[38;5;124;03m\"\"\"\u001b[39;00m\n\u001b[0;32m    554\u001b[0m \u001b[38;5;124;03mCheck the length of data matches the length of the index.\u001b[39;00m\n\u001b[0;32m    555\u001b[0m \u001b[38;5;124;03m\"\"\"\u001b[39;00m\n\u001b[0;32m    556\u001b[0m \u001b[38;5;28;01mif\u001b[39;00m \u001b[38;5;28mlen\u001b[39m(data) \u001b[38;5;241m!=\u001b[39m \u001b[38;5;28mlen\u001b[39m(index):\n\u001b[1;32m--> 557\u001b[0m     \u001b[38;5;28;01mraise\u001b[39;00m \u001b[38;5;167;01mValueError\u001b[39;00m(\n\u001b[0;32m    558\u001b[0m         \u001b[38;5;124m\"\u001b[39m\u001b[38;5;124mLength of values \u001b[39m\u001b[38;5;124m\"\u001b[39m\n\u001b[0;32m    559\u001b[0m         \u001b[38;5;124mf\u001b[39m\u001b[38;5;124m\"\u001b[39m\u001b[38;5;124m(\u001b[39m\u001b[38;5;132;01m{\u001b[39;00m\u001b[38;5;28mlen\u001b[39m(data)\u001b[38;5;132;01m}\u001b[39;00m\u001b[38;5;124m) \u001b[39m\u001b[38;5;124m\"\u001b[39m\n\u001b[0;32m    560\u001b[0m         \u001b[38;5;124m\"\u001b[39m\u001b[38;5;124mdoes not match length of index \u001b[39m\u001b[38;5;124m\"\u001b[39m\n\u001b[0;32m    561\u001b[0m         \u001b[38;5;124mf\u001b[39m\u001b[38;5;124m\"\u001b[39m\u001b[38;5;124m(\u001b[39m\u001b[38;5;132;01m{\u001b[39;00m\u001b[38;5;28mlen\u001b[39m(index)\u001b[38;5;132;01m}\u001b[39;00m\u001b[38;5;124m)\u001b[39m\u001b[38;5;124m\"\u001b[39m\n\u001b[0;32m    562\u001b[0m     )\n",
      "\u001b[1;31mValueError\u001b[0m: Length of values (5) does not match length of index (20775)"
     ]
    }
   ],
   "source": [
    "sample_submission.failure = pred\n",
    "sample_submission"
   ]
  },
  {
   "cell_type": "code",
   "execution_count": null,
   "id": "25a1788f",
   "metadata": {},
   "outputs": [],
   "source": []
  },
  {
   "cell_type": "code",
   "execution_count": null,
   "id": "446cc170",
   "metadata": {},
   "outputs": [],
   "source": []
  }
 ],
 "metadata": {
  "kernelspec": {
   "display_name": "Python 3",
   "language": "python",
   "name": "python3"
  },
  "language_info": {
   "codemirror_mode": {
    "name": "ipython",
    "version": 3
   },
   "file_extension": ".py",
   "mimetype": "text/x-python",
   "name": "python",
   "nbconvert_exporter": "python",
   "pygments_lexer": "ipython3",
   "version": "3.9.12"
  }
 },
 "nbformat": 4,
 "nbformat_minor": 5
}
